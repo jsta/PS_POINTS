{
 "cells": [
  {
   "cell_type": "markdown",
   "metadata": {
    "colab_type": "text",
    "id": "view-in-github"
   },
   "source": [
    "<a href=\"https://colab.research.google.com/github/prosperwashaya/PS_POINTS/blob/master/TensorFlow_latest.ipynb\" target=\"_parent\"><img src=\"https://colab.research.google.com/assets/colab-badge.svg\" alt=\"Open In Colab\"/></a>"
   ]
  },
  {
   "cell_type": "code",
   "execution_count": 1,
   "metadata": {
    "id": "7-VYqqaLHSlY"
   },
   "outputs": [],
   "source": [
    "from google.colab import auth\n",
    "auth.authenticate_user()"
   ]
  },
  {
   "cell_type": "code",
   "execution_count": 2,
   "metadata": {
    "colab": {
     "base_uri": "https://localhost:8080/"
    },
    "id": "q3petbPSIKOB",
    "outputId": "8472d2da-1ca5-4617-ce3d-4c0fde8f1e5b"
   },
   "outputs": [
    {
     "name": "stdout",
     "output_type": "stream",
     "text": [
      "To authorize access needed by Earth Engine, open the following URL in a web browser and follow the instructions. If the web browser does not start automatically, please manually browse the URL below.\n",
      "\n",
      "    https://code.earthengine.google.com/client-auth?scopes=https%3A//www.googleapis.com/auth/earthengine%20https%3A//www.googleapis.com/auth/devstorage.full_control&request_id=_OYNLXZZjqpjIPN5AKEXPedxeXO68N6FotVkDtpFZW4&tc=h5e-OO4qq2pY7PCovjGuGTiGpr9T29_egb0mNVwJiE4&cc=ex-AC7v5nkcQcJTt_fe0kM8B253MPU814jmnSzv2ios\n",
      "\n",
      "The authorization workflow will generate a code, which you should paste in the box below. \n",
      "Enter verification code: 4/1AX4XfWieSWH2EKellbgdm24YHvGUQxDB8xoPEnk3N--iCLhtvdpYhPzc_1o\n",
      "\n",
      "Successfully saved authorization token.\n"
     ]
    }
   ],
   "source": [
    "import ee\n",
    "ee.Authenticate()\n",
    "ee.Initialize()"
   ]
  },
  {
   "cell_type": "code",
   "execution_count": 3,
   "metadata": {
    "colab": {
     "base_uri": "https://localhost:8080/"
    },
    "id": "E3C5rzRhIMxh",
    "outputId": "c167ebfd-e0d5-4bf8-926b-972f4fdabcfc"
   },
   "outputs": [
    {
     "name": "stdout",
     "output_type": "stream",
     "text": [
      "2.8.2\n"
     ]
    }
   ],
   "source": [
    "import tensorflow as tf\n",
    "print(tf.__version__)"
   ]
  },
  {
   "cell_type": "code",
   "execution_count": 4,
   "metadata": {
    "colab": {
     "base_uri": "https://localhost:8080/"
    },
    "id": "YkMXDrhuINzk",
    "outputId": "fb81dd01-8013-446c-c387-7395890ab587"
   },
   "outputs": [
    {
     "name": "stdout",
     "output_type": "stream",
     "text": [
      "0.8.3\n"
     ]
    }
   ],
   "source": [
    "import folium\n",
    "print(folium.__version__)"
   ]
  },
  {
   "cell_type": "code",
   "execution_count": null,
   "metadata": {
    "colab": {
     "base_uri": "https://localhost:8080/",
     "height": 1000
    },
    "id": "thkxrFJzixtH",
    "outputId": "d9a92dfc-b9a1-4d48-f7e7-a2784d2ef010"
   },
   "outputs": [
    {
     "ename": "",
     "evalue": "",
     "output_type": "error",
     "traceback": [
      "\u001b[1;31mFailed to start the Kernel. \n",
      "\u001b[1;31mValueError: 'rail_pspoints2' is not one of the example datasets. \n",
      "\u001b[1;31mView Jupyter <a href='command:jupyter.viewOutput'>log</a> for further details."
     ]
    }
   ],
   "source": [
    "%%capture\n",
    "pip install geemap\n",
    "pip install tornado"
   ]
  },
  {
   "cell_type": "code",
   "execution_count": null,
   "metadata": {
    "id": "hqtqQOwfT1sd"
   },
   "outputs": [
    {
     "ename": "",
     "evalue": "",
     "output_type": "error",
     "traceback": [
      "\u001b[1;31mFailed to start the Kernel. \n",
      "\u001b[1;31mValueError: 'rail_pspoints2' is not one of the example datasets. \n",
      "\u001b[1;31mView Jupyter <a href='command:jupyter.viewOutput'>log</a> for further details."
     ]
    }
   ],
   "source": [
    "# // Load Sentinel-1 C-band SAR Ground Range collection (log scale, VV, descending)\n",
    "FC_map2 = ee.Image('projects/ee-pwashaya9/assets/corine_area')\n",
    "study = ee.FeatureCollection('users/pwashaya9/czech_shp')\n",
    "# Load Sentinel-1 C-band SAR Ground Range collection (log scale, VV, descending)\n",
    "\n",
    "FC_map = FC_map2.reduceToVectors(\n",
    "  geometry = study,\n",
    "  crs = FC_map2.projection(),\n",
    "  scale = 30,\n",
    "  geometryType = 'polygon',\n",
    "  eightConnected = False,\n",
    "  labelProperty = 'zone',\n",
    "  maxPixels = 1e10\n",
    ")\n",
    "\n",
    "collectionVV = ee.ImageCollection('COPERNICUS/S1_GRD') \\\n",
    ".filter(ee.Filter.eq('instrumentMode', 'IW')) \\\n",
    ".filter(ee.Filter.listContains('transmitterReceiverPolarisation', 'VV')) \\\n",
    ".filter(ee.Filter.eq('orbitProperties_pass', 'DESCENDING')) \\\n",
    ".filterMetadata('resolution_meters', 'equals' , 10) \\\n",
    ".filterBounds(study) \\\n",
    ".select('VV')\n",
    "#print(collectionVV, 'Collection VV')\n",
    "\n",
    "# Load Sentinel-1 C-band SAR Ground Range collection (log scale, VH, descending)\n",
    "collectionVH = ee.ImageCollection('COPERNICUS/S1_GRD') \\\n",
    ".filter(ee.Filter.eq('instrumentMode', 'IW')) \\\n",
    ".filter(ee.Filter.listContains('transmitterReceiverPolarisation', 'VH')) \\\n",
    ".filter(ee.Filter.eq('orbitProperties_pass', 'DESCENDING')) \\\n",
    ".filterMetadata('resolution_meters', 'equals' , 10) \\\n",
    ".filterBounds(study) \\\n",
    ".select('VH')\n",
    "#print(collectionVH, 'Collection VH')\n",
    "# Map.addLayer(study)\n",
    "#Map.addLayer(FC_map)\n",
    "Forest_class_mapCZ = ee.ImageCollection(FC_map)\n",
    "\n",
    "#Filter by date\n",
    "#first2014VV = collectionVV.filterDate('2014-01-01', '2014-12-31').mosaic()\n",
    "#second2015VV = collectionVV.filterDate('2015-01-01', '2015-12-31').mosaic()\n",
    "#third2016VV = collectionVV.filterDate('2016-01-01', '2016-12-31').mosaic()\n",
    "first2014VH = collectionVH.filterDate('2014-10-01', '2014-10-30').mosaic()\n",
    "second2015VH = collectionVH.filterDate('2015-10-20', '2015-12-30').mosaic()\n",
    "third2016VH = collectionVH.filterDate('2016-03-01', '2016-05-30').mosaic()\n",
    "\n",
    "#fourth2017VV = collectionVV.filterDate('2017-01-01', '2017-12-31').mosaic()\n",
    "#fifth2018VV = collectionVV.filterDate('2018-01-01', '2018-12-31').mosaic()\n",
    "#sixth2019VV = collectionVV.filterDate('2019-01-01', '2019-12-31').mosaic()\n",
    "fourth2017VH = collectionVH.filterDate('2017-06-01', '2017-06-30').mosaic()\n",
    "fifth2018VH = collectionVH.filterDate('2018-03-20', '2018-05-30').mosaic()\n",
    "sixth2019VH = collectionVH.filterDate('2019-01-01', '2019-01-30').mosaic()\n",
    "seventh2020VH = collectionVH.filterDate('2020-10-01', '2020-10-30').mosaic()\n",
    "\n",
    "#composite = second2015VH.clip(newroi)\n",
    "#Map.addLayer(composite, {min:-27,max:0}, 'composite2015 VH', 0)\n",
    "# Display map\n",
    "# Map.centerObject(study, 7)\n",
    "\n",
    "# #Map.addLayer(first2014VV, {min:-15,max:0}, '2014 VV', 0)\n",
    "# #Map.addLayer(second2015VV, {min:-15,max:0}, '2015 VV', 0)\n",
    "# #Map.addLayer(third2016VV, {min:-15,max:0}, '2016 VV', 0)\n",
    "# Map.addLayer(first2014VH, {'min':-27, 'max':0}, '2014 VH', 0)\n",
    "# Map.addLayer(second2015VH, {'min':-27, 'max':0}, '2015 VH', 0)\n",
    "# Map.addLayer(third2016VH, {'min':-27, 'max':0}, '2016 VH', 0)\n",
    "\n",
    "# #Map.addLayer(fourth2017VV, {min:-15,max:0}, '2017 VV', 0)\n",
    "# #Map.addLayer(fifth2018VV, {min:-15,max:0}, '2018 VV', 0)\n",
    "# #Map.addLayer(sixth2019VV, {min:-15,max:0}, '2019 VV', 0)\n",
    "# #Map.addLayer(fourth2017VH, {min:-27,max:0}, '2017 VH', 0)\n",
    "# Map.addLayer(fifth2018VH, {'min':-27, 'max':0}, '2018 VH', 0)\n",
    "# Map.addLayer(sixth2019VH, {'min':-27, 'max':0}, '2019 VH', 0)\n",
    "# Map.addLayer(seventh2020VH, {'min':-27, 'max':0}, '2020 VH', 0)\n",
    "#Map.addLayer(first2014VH.addBands(fifth2018VH).addBands(seventh2020VH),{min:-25, max:-8}, '2014/2018,2020 composite',0)\n",
    "\n",
    "#Apply filter to reduce speckle\n",
    "SMOOTHING_RADIUS = 50\n",
    "#first2014VV_filtered = first2014VV.focal_mean(SMOOTHING_RADIUS, 'circle', 'meters')\n",
    "first2014VH_filtered = first2014VH.focal_mean(SMOOTHING_RADIUS, 'circle', 'meters')\n",
    "#second2015VV_filtered = second2015VV.focal_mean(SMOOTHING_RADIUS, 'circle', 'meters')\n",
    "second2015VH_filtered = second2015VH.focal_mean(SMOOTHING_RADIUS, 'circle', 'meters')\n",
    "#third2016VV_filtered = third2016VV.focal_mean(SMOOTHING_RADIUS, 'circle', 'meters')\n",
    "third2016VH_filtered = third2016VH.focal_mean(SMOOTHING_RADIUS, 'circle', 'meters')\n",
    "\n",
    "#fourth2017VV_filtered = fourth2017VV.focal_mean(SMOOTHING_RADIUS, 'circle', 'meters')\n",
    "fourth2017VH_filtered = fourth2017VH.focal_mean(SMOOTHING_RADIUS, 'circle', 'meters')\n",
    "#fifth2018VV_filtered = fifth2018VV.focal_mean(SMOOTHING_RADIUS, 'circle', 'meters')\n",
    "fifth2018VH_filtered = fifth2018VH.focal_mean(SMOOTHING_RADIUS, 'circle', 'meters')\n",
    "#sixth2019VV_filtered = sixth2019VV.focal_mean(SMOOTHING_RADIUS, 'circle', 'meters')\n",
    "sixth2019VH_filtered = sixth2019VH.focal_mean(SMOOTHING_RADIUS, 'circle', 'meters')\n",
    "seventh2020VH_filtered = seventh2020VH.focal_mean(SMOOTHING_RADIUS, 'circle', 'meters')\n",
    "\n",
    "#clip the SAR layers with FC_map\n",
    "\n",
    "clip_first2014VH_filtered = first2014VH_filtered.clip(FC_map)\n",
    "featureSimple14 = ee.Feature(clip_first2014VH_filtered)\n",
    "\n",
    "#  return feature.simplify({maxError: 100})\n",
    "#\n",
    "#simplifiedCol =featureSimple.map(func_fvz)\n",
    "\n",
    "featureSimple1 = featureSimple14.simplify(\n",
    "     maxError = 3000000\n",
    "    )\n",
    "#Map.addLayer(featureSimple1)\n",
    "clip_sixth2019VH_filtered = sixth2019VH_filtered.clip(FC_map)\n",
    "featureSimple19 = ee.Feature(clip_sixth2019VH_filtered)\n",
    "featureSimple2 = featureSimple19.simplify(\n",
    "    maxError = 3000000)\n",
    "\n",
    "clip_fifth2018VH_filtered = fifth2018VH_filtered.clip(FC_map)\n",
    "featureSimple19 = ee.Feature(clip_fifth2018VH_filtered)\n",
    "featureSimple2 = featureSimple19.simplify(\n",
    "    maxError=  3000000)\n",
    "\n",
    "clip_second2015VH_filtered =second2015VH_filtered.clip(FC_map)\n",
    "featureSimple19 = ee.Feature(clip_second2015VH_filtered)\n",
    "featureSimple2 = featureSimple19.simplify(\n",
    "    maxError=  3000000)\n",
    "\n",
    "clip_seventh2020VH_filtered = seventh2020VH_filtered.clip(FC_map)\n",
    "featureSimple19 = ee.Feature(clip_seventh2020VH_filtered)\n",
    "featureSimple2 = featureSimple19.simplify(\n",
    "    maxError = 3000000)\n",
    "\n",
    "#Add the filtered image to the layers\n",
    "\n",
    "# #Map.addLayer(first2014VH_filtered, {min:-27,max:0}, '2014 VH filtered', 0)\n",
    "# Map.addLayer(second2015VH, {'min':-27, 'max':0}, '2015 VH filtered', 0)\n",
    "# Map.addLayer(third2016VH_filtered, {'min':-27, 'max':0}, '2016 VH filtered', 0)\n",
    "\n",
    "# #Map.addLayer(fourth2017VV, {min:-15,max:0}, '2017 VV', 0)\n",
    "# #Map.addLayer(fifth2018VV, {min:-15,max:0}, '2018 VV', 0)\n",
    "# #Map.addLayer(sixth2019VV, {min:-15,max:0}, '2019 VV', 0)\n",
    "# #Map.addLayer(fourth2017VH, {min:-27,max:0}, '2017 VH', 0)\n",
    "# Map.addLayer(fifth2018VH_filtered, {'min':-27, 'max':0}, '2018 VH filtered', 0)\n",
    "# Map.addLayer(sixth2019VH_filtered, {'min':-27, 'max':0}, '2019 VH filtered', 0)\n",
    "# Map.addLayer(seventh2020VH_filtered, {'min':-27, 'max':0}, '2020 VH filtered', 0)\n",
    "# #Map.addLayer(first2014VH_filtered.addBands(fifth2018VH_filtered).addBands(seventh2020VH_filtered),{min:-25, max:-8}, '2014/2018,2020 filtered RGB',0)\n",
    "\n",
    "# Calculate the ratio between before and after\n",
    "\n",
    "ratio1518VH=  clip_second2015VH_filtered.subtract( clip_fifth2018VH_filtered)\n",
    "#ratio1415VV= first2014VV_filtered.subtract(second2015VV_filtered)\n",
    "#ratio1516VH= second2015VH_filtered.subtract(third2016VH_filtered)\n",
    "#ratio1516VV= second2015VV_filtered.subtract(third2016VV_filtered)\n",
    "\n",
    "#ratio1617VH= third2016VH_filtered.subtract(fourth2017VH_filtered)\n",
    "#ratio1617VV= third2016VV_filtered.subtract(fourth2017VV_filtered)\n",
    "\n",
    "#ratio1718VH= fourth2017VH_filtered.subtract(fifth2018VH_filtered)\n",
    "#ratio1718VV= fourth2017VV_filtered.subtract(fifth2018VV_filtered)\n",
    "#ratio1820VH= fifth2018VH_filtered.subtract( seventh2020VH_filtered)\n",
    "ratio1820VH= clip_fifth2018VH_filtered.subtract(clip_seventh2020VH_filtered)\n",
    "\n",
    "# #Calculate histograms for each image\n",
    "# print(ui.Chart.image.histogram({'image':ratio1518VH, 'region':test_area, 'scale':500}))\n",
    "# #print(ui.Chart.image.histogram({image:ratio1516VH, region:newroi, scale:300}))\n",
    "# #print(ui.Chart.image.histogram({image:ratio1617VH, region:newroi, scale:300}))\n",
    "# #print(ui.Chart.image.histogram({image:ratio1718VH, region:newroi, scale:300}))\n",
    "\n",
    "# print(ui.Chart.image.histogram({'image':ratio1820VH, 'region':test_area, 'scale':500}))\n",
    "\n",
    "# Combine the mean and standard deviation reducers.\n",
    "reducers = ee.Reducer.mean().combine(\n",
    "  reducer2 = ee.Reducer.stdDev(),\n",
    "  sharedInputs = True\n",
    ")\n",
    "\n",
    "#Calculate the mean and standard deviation for each ratio image\n",
    "stats1518 = ratio1518VH.reduceRegion(\n",
    "  reducer = reducers,\n",
    "  geometry = study,\n",
    "  scale = 30,\n",
    "  maxPixels = 60e7,\n",
    ")\n",
    "\n",
    "stats1820 = ratio1820VH.reduceRegion(\n",
    "  reducer = reducers,\n",
    "  geometry = study,\n",
    "  scale = 30,\n",
    "  maxPixels = 60e7,\n",
    "  #tileScale: 16\n",
    ")\n",
    "\n",
    "#Print the mean and stdv for each ratio image\n",
    "# print('stats:', stats1518, stats1820)\n",
    "#, stats1516,stats1617,stats1718,stats1819\n",
    "#Apply Thresholds based on stdvx6.14\n",
    "#RATIO_UPPER_THRESHOLD1418 = 7.17\n",
    "RATIO_UPPER_THRESHOLD1518 = 3.4\n",
    "#RATIO_UPPER_THRESHOLD1516 = 6.14\n",
    "#RATIO_UPPER_THRESHOLD1617 = 6.14\n",
    "#RATIO_UPPER_THRESHOLD1718 = 35.78\n",
    "RATIO_UPPER_THRESHOLD1820 = 2.96\n",
    "\n",
    "ratio1518VH_thresholded = ratio1518VH.gt(RATIO_UPPER_THRESHOLD1518)\n",
    "#ratio1516VH_thresholded = ratio1516VH.gt(RATIO_UPPER_THRESHOLD1516)\n",
    "\n",
    "#ratio1617VH_thresholded = ratio1617VH.gt(RATIO_UPPER_THRESHOLD1617)\n",
    "#ratio1718VH_thresholded = ratio1718VH.gt(RATIO_UPPER_THRESHOLD1718)\n",
    "\n",
    "ratio1820VH_thresholded = ratio1820VH.gt(RATIO_UPPER_THRESHOLD1820)\n",
    "\n",
    "#Display Masks\n",
    "# Map.addLayer(ratio1518VH_thresholded.updateMask(ratio1518VH_thresholded),{'palette':\"#f54009\"},'Vegetation Loss 15/18',1)\n",
    "\n",
    "# #Map.addLayer(ratio1516VH_thresholded.updateMask(ratio1516VH_thresholded),{palette:\"cdb33b\"},'Vegetation Loss 15/16',1)\n",
    "# #Map.addLayer(ratio1617VH_thresholded.updateMask(ratio1617VH_thresholded),{palette:\"cc0013\"},'Vegetation Loss 16/17',1)\n",
    "# #Map.addLayer(ratio1718VH_thresholded.updateMask(ratio1718VH_thresholded),{palette:\"FF0000\"},'Vegetation Loss 17/18',1)\n",
    "# Map.addLayer(ratio1820VH_thresholded.updateMask(ratio1820VH_thresholded),{'palette':\"140b13\"},'Vegetation Loss 18/20',1)\n",
    "\n",
    "#Compare differences in vegetation loss between 16/18 and 18/20\n",
    "area_loss1518 = ratio1518VH_thresholded.reduceRegion(\n",
    "  reducer= ee.Reducer.sum(),\n",
    "  geometry= study,\n",
    "  scale= 20,\n",
    "  maxPixels= 60e7,\n",
    ")\n",
    "\n",
    "#Print the mean and stdv for each ratio image\n",
    "# print('stats:', area_loss1518)\n",
    "\n",
    "# Export.image.toDrive({\n",
    "#    'image': ratio1518VH_thresholded,\n",
    "#    'description': 'area_loss1518',\n",
    "#    'scale': 10,\n",
    "#    'region': newroi,\n",
    "#    'fileFormat': 'GeoTIFF',\n",
    "#    'maxPixels': 40e8\n",
    "# })\n",
    "\n",
    "# Export.table.toDrive({\n",
    "#   'collection': ee.FeatureCollection([\n",
    "#     ee.Feature(None,area_loss1518 )\n",
    "#   ]),\n",
    "#   'description': 'stats1518',\n",
    "#   'fileFormat': 'CSV'\n",
    "# })\n",
    "# Map\n",
    "\n",
    "\n",
    "\n"
   ]
  },
  {
   "cell_type": "code",
   "execution_count": null,
   "metadata": {
    "id": "YF05sMPx4Jse"
   },
   "outputs": [
    {
     "ename": "",
     "evalue": "",
     "output_type": "error",
     "traceback": [
      "\u001b[1;31mFailed to start the Kernel. \n",
      "\u001b[1;31mValueError: 'rail_pspoints2' is not one of the example datasets. \n",
      "\u001b[1;31mView Jupyter <a href='command:jupyter.viewOutput'>log</a> for further details."
     ]
    }
   ],
   "source": [
    "dataset = ee.Image('CGIAR/SRTM90_V4');\n",
    "elevation = dataset.select('elevation').clip(FC_map)\n",
    "slope = ee.Terrain.slope(elevation).clip(FC_map)\n",
    "aspect = ee.Terrain.aspect(elevation).clip(FC_map)"
   ]
  },
  {
   "cell_type": "code",
   "execution_count": null,
   "metadata": {
    "id": "ubStHOFAjJwY"
   },
   "outputs": [
    {
     "ename": "",
     "evalue": "",
     "output_type": "error",
     "traceback": [
      "\u001b[1;31mFailed to start the Kernel. \n",
      "\u001b[1;31mValueError: 'rail_pspoints2' is not one of the example datasets. \n",
      "\u001b[1;31mView Jupyter <a href='command:jupyter.viewOutput'>log</a> for further details."
     ]
    }
   ],
   "source": [
    "import geemap\n",
    "import os"
   ]
  },
  {
   "cell_type": "code",
   "execution_count": null,
   "metadata": {
    "id": "yulGmPI4IpTw"
   },
   "outputs": [
    {
     "ename": "",
     "evalue": "",
     "output_type": "error",
     "traceback": [
      "\u001b[1;31mFailed to start the Kernel. \n",
      "\u001b[1;31mValueError: 'rail_pspoints2' is not one of the example datasets. \n",
      "\u001b[1;31mView Jupyter <a href='command:jupyter.viewOutput'>log</a> for further details."
     ]
    }
   ],
   "source": [
    "# REPLACE WITH YOUR CLOUD PROJECT!\n",
    "PROJECT = 'quick-keel-352020'\n",
    "\n",
    "# Output bucket for trained models.  You must be able to write into this bucket.\n",
    "OUTPUT_BUCKET = 'prosper-bucket'\n",
    "\n",
    "# Cloud Storage bucket with training and testing datasets.\n",
    "DATA_BUCKET = 'prosper-bucket'\n",
    "\n",
    "# This is a good region for hosting AI models.\n",
    "REGION = 'us-central1'\n",
    "\n",
    "# Training and testing dataset file names in the Cloud Storage bucket.\n",
    "TRAIN_FILE_PREFIX = 'logistic_demo_training'\n",
    "TEST_FILE_PREFIX = 'logistic_demo_testing'\n",
    "file_extension = '.tfrecord.gz'\n",
    "TRAIN_FILE_PATH = 'gs://' + DATA_BUCKET + '/' + TRAIN_FILE_PREFIX + file_extension\n",
    "TEST_FILE_PATH = 'gs://' + DATA_BUCKET + '/' + TEST_FILE_PREFIX + file_extension\n",
    "\n",
    "# The labels, consecutive integer indices starting from zero, are stored in\n",
    "# this property, set on each point.\n",
    "LABEL = 'loss19'\n",
    "# Number of label values, i.e. number of classes in the classification.\n",
    "N_CLASSES = 2\n",
    "\n",
    "# Study area.  CZECH.\n",
    "# GEOMETRY = geemap.shp_to_ee( r'C:\\Users\\Prosper\\Desktop\\EE\\GEEMAP\\SPH_STAT.shp', encoding=\"ISO-8859-1\")\n",
    "GEOMETRY = ee.FeatureCollection('users/pwashaya9/czech_shp')\n",
    "\n",
    "\n",
    "def compositeFunctionSR(image):\n",
    "  # Bits 3 and 5 are cloud shadow and cloud, respectively.\n",
    "    cloudShadowBitMask = ee.Number(2).pow(3).int()\n",
    "    cloudsBitMask = ee.Number(2).pow(5).int()\n",
    "    qa = image.select('pixel_qa')\n",
    "    # Both flags should be set to zero, indicating clear conditions.\n",
    "    mask = qa.bitwiseAnd(cloudShadowBitMask).eq(0).And(\n",
    "                qa.bitwiseAnd(cloudsBitMask).eq(0))\n",
    "    return image \\\n",
    "          .select(['B[1-7]']).multiply(0.0001) \\\n",
    "          .addBands(image.select(['B10', 'B11']).multiply(0.1)) \\\n",
    "          .updateMask(mask)\n",
    "# Cloud masking function.\n",
    "# def compositeFunctionSR(image):\n",
    "#   cloudShadowBitMask = ee.Number(2).pow(3).int()\n",
    "#   cloudsBitMask = ee.Number(2).pow(5).int()\n",
    "#   qa = image.select('pixel_qa')\n",
    "#   mask1 = qa.bitwiseAnd(cloudShadowBitMask).eq(0).And(\n",
    "#     qa.bitwiseAnd(cloudsBitMask).eq(0))\n",
    "#   mask2 = image.mask().reduce('min')\n",
    "#   mask3 = image.select(OPTICAL_BANDS).gt(0).And(\n",
    "#           image.select(OPTICAL_BANDS).lt(10000)).reduce('min')\n",
    "#   mask = mask1.And(mask2).And(mask3)\n",
    "#   return image.select(OPTICAL_BANDS).divide(10000).addBands(\n",
    "#           image.select(THERMAL_BANDS).divide(10).clamp(273.15, 373.15)\n",
    "#             .subtract(273.15).divide(100)).updateMask(mask)\n",
    "\n",
    "\n",
    "corine = ee.Image('COPERNICUS/CORINE/V18_5_1/100m/2012') \\\n",
    "              .clip(GEOMETRY)\n",
    "\n",
    "# print(corine)\n",
    "# print(corine.propertyNames())\n",
    "lc_value = corine.get('landcover_class_names')\n",
    "# print(lc_value)\n",
    "\n",
    "forest = corine.updateMask(corine.gte(22).And(corine.lte(25)))\n",
    "\n",
    "# Map.addLayer(forest)\n",
    "def landuse(image):\n",
    "  # Bits 3 and 5 are cloud shadow and cloud, respectively.\n",
    "    landuse_mask = forest\n",
    "    # Both flags should be set to zero, indicating clear conditions.\n",
    "    return image.updateMask(landuse_mask)\n",
    "\n",
    "image_2019 = ee.ImageCollection(['LANDSAT/LC08/C01/T1_SR/LC08_188025_20190824','LANDSAT/LC08/C01/T1_SR/LC08_188026_20190824',\n",
    "                            'LANDSAT/LC08/C01/T1_SR/LC08_189025_20190612','LANDSAT/LC08/C01/T1_SR/LC08_189026_20190612',\n",
    "                            'LANDSAT/LC08/C01/T1_SR/LC08_190025_20190603','LANDSAT/LC08/C01/T1_SR/LC08_190026_20190603',\n",
    "                            'LANDSAT/LC08/C01/T1_SR/LC08_191025_20190626', 'LANDSAT/LC08/C01/T1_SR/LC08_191026_20190626',\n",
    "                            'LANDSAT/LC08/C01/T1_SR/LC08_192025_20190617','LANDSAT/LC08/C01/T1_SR/LC08_192026_20190703',\n",
    "                            'LANDSAT/LC08/C01/T1_SR/LC08_193025_20190624','LANDSAT/LC08/C01/T1_SR/LC08_193026_20190624']) \\\n",
    "                            .map(compositeFunctionSR) \\\n",
    "                            .map(landuse)\n",
    "image_2015 = ee.ImageCollection(['LANDSAT/LC08/C01/T1_SR/LC08_188026_20150712','LANDSAT/LC08/C01/T1_SR/LC08_189025_20150703',\n",
    "                            'LANDSAT/LC08/C01/T1_SR/LC08_189026_20150719', 'LANDSAT/LC08/C01/T1_SR/LC08_190025_20150811',\n",
    "                            'LANDSAT/LC08/C01/T1_SR/LC08_190026_20150726', 'LANDSAT/LC08/C01/T1_SR/LC08_191025_20150701',\n",
    "                            'LANDSAT/LC08/C01/T1_SR/LC08_191026_20150717','LANDSAT/LC08/C01/T1_SR/LC08_192025_20150606',\n",
    "                            'LANDSAT/LC08/C01/T1_SR/LC08_192026_20150606','LANDSAT/LC08/C01/T1_SR/LC08_193025_20150629',\n",
    "                            'LANDSAT/LC08/C01/T1_SR/LC08_193026_20150731']) \\\n",
    "                            .map(compositeFunctionSR) \\\n",
    "                            .map(landuse)\n",
    "\n",
    "# Study area.  CZECH.\n",
    "# GEOMETRY2 = geemap.shp_to_ee( r'C:\\Users\\Prosper\\Desktop\\EE\\GEEMAP\\SPH_STAT.shp', encoding=\"ISO-8859-1\")\n",
    "# GEOMETRY = ee.Feature('users/pwashaya9/czech_shp')\n",
    "\n",
    "OPTICAL_BANDS = ['B1', 'B2', 'B3', 'B4', 'B5', 'B6', 'B7']\n",
    "NDVI_BANDS = ['NDVI']\n",
    "NDWI = ['NDWI']\n",
    "BANDS = [NDVI_BANDS + NDWI]\n",
    "\n",
    "\n",
    "mosaic_2019 = image_2019.mosaic()\n",
    "# unmasked_2019 = mosaic_2019 #.unmask(0)\n",
    "final_2019 = (mosaic_2019.clip(GEOMETRY)).select(OPTICAL_BANDS)\n",
    "\n",
    "mosaic_2015 = image_2015.mosaic()\n",
    "# unmasked_2015 = mosaic_2015#.unmask(0)\n",
    "final_2015= (mosaic_2015.clip(GEOMETRY)).select(OPTICAL_BANDS)\n",
    "\n",
    "NIR_2015 = final_2015.select('B5')\n",
    "RED_2015 = final_2015.select('B4')\n",
    "NIR_2019 = final_2019.select('B5')\n",
    "RED_2019 = final_2019.select('B4')\n",
    "SWIR_2015 = final_2015.select('B7')\n",
    "SWIR_2019 = final_2019.select('B7')\n",
    "GREEN_2015 = final_2015.select('B3')\n",
    "GREEN_2019 = final_2019.select('B3')\n",
    "\n",
    "NDVI_2019_ =(NIR_2019.subtract(RED_2019)).divide(NIR_2019.add(RED_2019)).rename('NDVI')\n",
    "NDVI_2015_ =(NIR_2015.subtract(RED_2015)).divide(NIR_2015.add(RED_2015)).rename('NDVI')\n",
    "\n",
    "NDWI_2019_ =(GREEN_2019.subtract(NIR_2019)).divide(GREEN_2019.add(NIR_2019)).rename('NDWI')\n",
    "NDWI_2015_ =(GREEN_2015.subtract(NIR_2015)).divide(GREEN_2015.add(NIR_2015)).rename('NDWI')\n",
    "\n",
    "EVI_2015 = final_2015.expression('(2.5 * ((NIR - RED)) / (NIR + 6 * RED - 7.5 *Blue + 1 ))', {\n",
    "              'NIR': final_2015.select('B5'),\n",
    "              'RED': final_2015.select('B4'),\n",
    "              'Blue': final_2015.select('B2')}).rename('EVI');\n",
    "EVI_2019 = final_2019.expression('(2.5 * ((NIR - RED)) / (NIR + 6 * RED - 7.5 *Blue + 1 ))', {\n",
    "              'NIR': final_2019.select('B5'),\n",
    "              'RED': final_2019.select('B4'),\n",
    "              'Blue': final_2019.select('B2')}).rename('EVI');\n",
    "\n",
    "SAR_Layer= ratio1518VH.select('VH')\n",
    "\n",
    "# NDVI_2019_= image_2019.expression('((NIR - RED) / (NIR + RED))', {\n",
    "#               'NIR': image_2019.select('B5'),\n",
    "#               'RED': image_2019.select('B4'),\n",
    "#               'Blue': image_2019.select('B2')}).rename('NDVI')\n",
    "# NDVI_2015_ = image_2015.expression('((NIR - RED) / (NIR + RED))', {\n",
    "#               'NIR': image_2015.select('B5'),\n",
    "#               'RED': image_2015.select('B4'),\n",
    "#               'Blue': image_2015.select('B2')}).rename('NDVI')\n",
    "\n",
    "# NDVI_2015 = NDVI_2015_.select(['NDVI'])\n",
    "# NDVI_2019 = NDVI_2019_.select(['NDVI'])\n",
    "slope_Layer = slope.select('slope')\n",
    "elevation_Layer = elevation.select('elevation')\n",
    "aspect_Layer = aspect.select('aspect')\n",
    "\n",
    "# Use ndvi DIFFERENCE FOR PREDICTION\n",
    "stack_NDVI = (NDVI_2019_.subtract(NDVI_2015_)).rename('NDVI')\n",
    "stack_NDWI = (NDWI_2019_.subtract(NDWI_2015_)).rename('NDWI')\n",
    "stack_EVI = (EVI_2019.subtract(EVI_2015)).rename('EVI')\n",
    "stack_SAR = SAR_Layer.rename('SAR')\n",
    "stack_slope = slope.rename('slope')\n",
    "stack_elevation= elevation_Layer.rename('elevation')\n",
    "stack_aspect= aspect_Layer.rename('aspect')\n",
    "# stack = NDVI_Layer.lt(-0.1)\n",
    "\n",
    "stack = ((stack_NDVI.addBands(stack_NDWI)).addBands(stack_EVI).addBands(stack_SAR)).addBands(stack_slope)\n",
    "\n",
    "\n",
    "# composite1 = final_2019.addBands(final_2015)\n",
    "# stack = NDVI_Layer.float()\n",
    "\n",
    "# IMAGE = ee.Image('projects/ee-pwashaya9/assets/tezba_raster_binary2')\n",
    "\n",
    "# LOSS_image = ee.ImageCollection([IMAGE]).map(landuse)\n",
    "# stack = (((IMAGE).select('b1')).rename('NDVI')).uint8()\n",
    "\n",
    "NDVI_BANDS = ['NDVI']\n",
    "# BANDS = ('NDVI')\n",
    "BEFORE_BANDS = NDVI_BANDS + OPTICAL_BANDS\n",
    "AFTER_BANDS = [str(s) + '_1' for s in BEFORE_BANDS]\n",
    "NDVI_BANDS = ['NDVI']\n",
    "NDWI = ['NDWI']\n",
    "EVI = ['EVI']\n",
    "SAR_BAND = ['SAR']\n",
    "SLOPE_BAND = ['slope']\n",
    "ELEVATION_BAND = ['elevation']\n",
    "ASPECT_BAND = ['aspect']\n",
    "# BANDS = NDVI_BANDS + NDWI + EVI + SAR_BAND + SLOPE_BAND\n",
    "BANDS = NDWI + SAR_BAND\n",
    "\n",
    "\n",
    "# Forest loss in 2016 is what we want to predict.\n",
    "IMAGE = ee.Image('projects/ee-pwashaya9/assets/tezba_raster_binary2')\n",
    "\n",
    "LOSS_image = ee.ImageCollection([IMAGE]).map(landuse)\n",
    "LOSS_19 = (((IMAGE).select('b1')).rename(LABEL)).uint8()\n",
    "LOSS19 = LOSS_19.gt(0.5)\n",
    "\n",
    "# GEOMETRY = ee.Geometry.Polygon(\n",
    "#         [[[48.455920, 18.583328],\n",
    "#           [51.237297,  18.845534],\n",
    "#           [51.265385,  11.931759],\n",
    "#           [48.410289, 11.898145]]], None, False)\n",
    "\n",
    "\n",
    "GEOMETRY = ee.Geometry.Polygon(\n",
    "        [[[11.891839177291098,48.51063424579321],\n",
    "[19.0768977710411,48.51063424579321],\n",
    "[19.0768977710411,51.22876410463182],\n",
    "[11.891839177291098,51.22876410463182],\n",
    "[11.891839177291098,48.51063424579321]]], None, False)\n",
    "\n",
    "# GEOMETRY = ee.Geometry.Polygon([[[17.4615494854541,50.08656806303931],\n",
    "#                                 [17.49897166562988,50.08656806303931],\n",
    "#                                 [17.49897166562988,50.11387574304825],\n",
    "#                                 [17.4615494854541,50.11387574304825],\n",
    "#                                 [17.4615494854541,50.08656806303931]]], None, False)\n",
    "\n",
    "# These names are used to specify properties in the export of training/testing\n",
    "# data and to define the mapping between names and data when reading from\n",
    "# the TFRecord file into a tf.data.Dataset.\n",
    "FEATURE_NAMES = list(BANDS)\n",
    "FEATURE_NAMES.append(LABEL)\n",
    "\n",
    "# List of fixed-length features, all of which are float32.\n",
    "columns = [\n",
    "  tf.io.FixedLenFeature(shape=[1], dtype=tf.float32) for k in FEATURE_NAMES\n",
    "]\n",
    "\n",
    "\n",
    "\n",
    "# Dictionary with feature names as keys, fixed-length features as values.\n",
    "FEATURES_DICT = dict(zip(FEATURE_NAMES, columns))\n",
    "\n",
    "# Where to save the trained model.\n",
    "MODEL_DIR = 'gs://' + OUTPUT_BUCKET + '/logistic_model'\n",
    "# Where to save the EEified model.\n",
    "EEIFIED_DIR = 'gs://' + OUTPUT_BUCKET + '/logistic_eeified'\n",
    "\n",
    "# Name of the AI Platform model to be hosted.\n",
    "MODEL_NAME = 'logistic_model5'\n",
    "# Version of the AI Platform model to be hosted.\n",
    "VERSION_NAME = 'v0'\n",
    "\n",
    "\n",
    "# Map = geemap.Map()\n",
    "\n",
    "# Map\n",
    "\n",
    "# export_image = 'projects/ee-pwashaya9/logistic_image'\n",
    "\n",
    "# image_task = ee.batch.Export.image.toAsset(\n",
    "#   image = stack, \n",
    "#   description = 'logistic_image', \n",
    "#   assetId = export_image, \n",
    "#   region = GEOMETRY,\n",
    "#   scale = 30,\n",
    "#   maxPixels = 1e10\n",
    "# )\n",
    "\n",
    "# outputBucket = 'ee-prosper' #Change for your Cloud Storage bucket\n",
    "\n",
    "# Export the image to an Earth Engine asset.\n",
    "export_image = 'projects/ee-pwashaya9/assets/logistic_demo_imageNDWI'\n",
    "\n",
    "image_task = ee.batch.Export.image.toAsset(\n",
    "  image = stack, \n",
    "  description = 'logistic_demo_imageNDWI', \n",
    "  assetId = export_image, \n",
    "  region = GEOMETRY,\n",
    "  scale = 30,\n",
    "  maxPixels = 1e10\n",
    ")"
   ]
  },
  {
   "cell_type": "code",
   "execution_count": null,
   "metadata": {
    "colab": {
     "base_uri": "https://localhost:8080/",
     "height": 621,
     "referenced_widgets": [
      "2b179782dfa64c168af9dd4160937cfe",
      "6dfd6c6bfca9488698cc0fbd49bc62c5",
      "9e34cba6e3ee4fe9b77bee128033b641",
      "6c2a659ad02143c8951e18243fa10106",
      "11c9829c21904656ac1ec42527c58c8a",
      "cc23c18c07334befabe716a733a096e8",
      "1e546314289a4e7e850b0abdb8fdf60c",
      "b740913b794641c7925ead83bcc2db03",
      "076026ace6fe4382814b54d1773d0184",
      "739b2847eb7b4afaa49e4018a2cc4e80",
      "3725c0c7b31d419e8de81c7a0008aee8",
      "4c813612c7b246cebe67de306febc7f6",
      "fd3c7b0bea03409bae2c74328906a470",
      "afe183ddb9ac4e27a573f0c314d248b9",
      "bf93a45253f447f09688e2cb9bc45ad6",
      "cbcc51c45a8e4021b723e4222c661a70",
      "f6977029b2334cbe8639a756b5f0678f",
      "6c7d92a8fe3f468f9dfe13256d1c5f4e",
      "4eee8e05e51c43b5bf98bc6f40edf9fc",
      "3e1b201260de48f09fa4f165bead4b60",
      "a7fd024c3c6241209f7fda971dc9c153",
      "0b99987a808d444687b226caa71f65d6",
      "5a45beb59a984eeea975e24966a39198",
      "da6e81bd19d246e999cf9166dfe1fcc0",
      "886646d05af14d5ca3b5c3f5dc7b9f48",
      "ad19c359483942ac805d22b95c223ea1",
      "9e458e4b28594590852015bd5d07c340",
      "7e03e7771cd7401cac13e7915e5ae9c5"
     ]
    },
    "id": "SY6RGrJGn6E6",
    "outputId": "a94c2033-b0ee-4bd7-d43b-6d66a8a2cd02"
   },
   "outputs": [
    {
     "ename": "",
     "evalue": "",
     "output_type": "error",
     "traceback": [
      "\u001b[1;31mFailed to start the Kernel. \n",
      "\u001b[1;31mValueError: 'rail_pspoints2' is not one of the example datasets. \n",
      "\u001b[1;31mView Jupyter <a href='command:jupyter.viewOutput'>log</a> for further details."
     ]
    }
   ],
   "source": [
    "Map = geemap.Map()\n",
    "Map.addLayer(stack,{},'loss')\n",
    "Map.addLayer(LOSS19,{},'19')\n",
    "# Map.addLayer(elevation,{}, 'elevation')\n",
    "Map.addLayer(slope,{}, 'slope')\n",
    "\n",
    "\n",
    "Map"
   ]
  },
  {
   "cell_type": "code",
   "execution_count": null,
   "metadata": {
    "id": "1AKLDI3iIqus"
   },
   "outputs": [
    {
     "ename": "",
     "evalue": "",
     "output_type": "error",
     "traceback": [
      "\u001b[1;31mFailed to start the Kernel. \n",
      "\u001b[1;31mValueError: 'rail_pspoints2' is not one of the example datasets. \n",
      "\u001b[1;31mView Jupyter <a href='command:jupyter.viewOutput'>log</a> for further details."
     ]
    }
   ],
   "source": [
    "image_task.start()"
   ]
  },
  {
   "cell_type": "code",
   "execution_count": null,
   "metadata": {
    "colab": {
     "base_uri": "https://localhost:8080/"
    },
    "id": "Xtrfb3oTIulK",
    "outputId": "1f3f9021-812f-43c7-dea2-696e83227b1d"
   },
   "outputs": [
    {
     "ename": "",
     "evalue": "",
     "output_type": "error",
     "traceback": [
      "\u001b[1;31mFailed to start the Kernel. \n",
      "\u001b[1;31mValueError: 'rail_pspoints2' is not one of the example datasets. \n",
      "\u001b[1;31mView Jupyter <a href='command:jupyter.viewOutput'>log</a> for further details."
     ]
    }
   ],
   "source": [
    "image_task.status()"
   ]
  },
  {
   "cell_type": "code",
   "execution_count": null,
   "metadata": {
    "id": "CCQxBUeyn8xD"
   },
   "outputs": [
    {
     "ename": "",
     "evalue": "",
     "output_type": "error",
     "traceback": [
      "\u001b[1;31mFailed to start the Kernel. \n",
      "\u001b[1;31mValueError: 'rail_pspoints2' is not one of the example datasets. \n",
      "\u001b[1;31mView Jupyter <a href='command:jupyter.viewOutput'>log</a> for further details."
     ]
    }
   ],
   "source": [
    "# GEOMETRY2 = ee.FeatureCollection('projects/ee-pwashaya9/assets/tezba_2018')"
   ]
  },
  {
   "cell_type": "code",
   "execution_count": null,
   "metadata": {
    "id": "zNw8hjOtJcAz"
   },
   "outputs": [
    {
     "ename": "",
     "evalue": "",
     "output_type": "error",
     "traceback": [
      "\u001b[1;31mFailed to start the Kernel. \n",
      "\u001b[1;31mValueError: 'rail_pspoints2' is not one of the example datasets. \n",
      "\u001b[1;31mView Jupyter <a href='command:jupyter.viewOutput'>log</a> for further details."
     ]
    }
   ],
   "source": [
    "sample = ee.Image(export_image).addBands(LOSS19).stratifiedSample(\n",
    "  numPoints = 100000,\n",
    "  classBand = LABEL,\n",
    "  region = GEOMETRY,\n",
    "  scale = 30,\n",
    "  tileScale = 8\n",
    ")\n",
    "\n",
    "randomized = sample.randomColumn()\n",
    "training = randomized.filter(ee.Filter.lt('random', 0.7))\n",
    "testing = randomized.filter(ee.Filter.gte('random', 0.7))\n",
    "\n",
    "train_task = ee.batch.Export.table.toCloudStorage(\n",
    "  collection = training,\n",
    "  description = TRAIN_FILE_PREFIX,\n",
    "  bucket = OUTPUT_BUCKET,\n",
    "  fileFormat = 'TFRecord'\n",
    ")\n",
    "\n",
    "test_task = ee.batch.Export.table.toCloudStorage(\n",
    "  collection = testing,\n",
    "  description = TEST_FILE_PREFIX,\n",
    "  bucket = OUTPUT_BUCKET,\n",
    "  fileFormat = 'TFRecord'\n",
    ")"
   ]
  },
  {
   "cell_type": "code",
   "execution_count": null,
   "metadata": {
    "id": "l3Fq4HEtJfdM"
   },
   "outputs": [
    {
     "ename": "",
     "evalue": "",
     "output_type": "error",
     "traceback": [
      "\u001b[1;31mFailed to start the Kernel. \n",
      "\u001b[1;31mValueError: 'rail_pspoints2' is not one of the example datasets. \n",
      "\u001b[1;31mView Jupyter <a href='command:jupyter.viewOutput'>log</a> for further details."
     ]
    }
   ],
   "source": [
    "train_task.start()\n",
    "test_task.start()"
   ]
  },
  {
   "cell_type": "code",
   "execution_count": null,
   "metadata": {
    "colab": {
     "base_uri": "https://localhost:8080/"
    },
    "id": "oqtUY25tQJZ3",
    "outputId": "47a4aa39-9f8e-4628-8b7d-75f9209862ae"
   },
   "outputs": [
    {
     "ename": "",
     "evalue": "",
     "output_type": "error",
     "traceback": [
      "\u001b[1;31mFailed to start the Kernel. \n",
      "\u001b[1;31mValueError: 'rail_pspoints2' is not one of the example datasets. \n",
      "\u001b[1;31mView Jupyter <a href='command:jupyter.viewOutput'>log</a> for further details."
     ]
    }
   ],
   "source": [
    "train_task.status()\n",
    "test_task.status()"
   ]
  },
  {
   "cell_type": "code",
   "execution_count": null,
   "metadata": {
    "id": "287qK_04JhpT"
   },
   "outputs": [
    {
     "ename": "",
     "evalue": "",
     "output_type": "error",
     "traceback": [
      "\u001b[1;31mFailed to start the Kernel. \n",
      "\u001b[1;31mValueError: 'rail_pspoints2' is not one of the example datasets. \n",
      "\u001b[1;31mView Jupyter <a href='command:jupyter.viewOutput'>log</a> for further details."
     ]
    }
   ],
   "source": [
    "def parse_tfrecord(example_proto):\n",
    "  \"\"\"The parsing function.\n",
    "\n",
    "  Read a serialized example into the structure defined by FEATURES_DICT.\n",
    "\n",
    "  Args:\n",
    "    example_proto: a serialized Example.\n",
    "\n",
    "  Returns:\n",
    "    A tuple of the predictors dictionary and the label, cast to an `int32`.\n",
    "  \"\"\"\n",
    "  parsed_features = tf.io.parse_single_example(example_proto, FEATURES_DICT)\n",
    "  labels = parsed_features.pop(LABEL)\n",
    "  return parsed_features, tf.cast(labels, tf.int32)\n",
    "\n",
    "\n",
    "def to_tuple(inputs, label):\n",
    "  \"\"\" Convert inputs to a tuple.\n",
    "\n",
    "  Note that the inputs must be a tuple of tensors in the right shape.\n",
    "\n",
    "  Args:\n",
    "    dict: a dictionary of tensors keyed by input name.\n",
    "    label: a tensor storing the response variable.\n",
    "\n",
    "  Returns:\n",
    "    A tuple of tensors: (predictors, label).\n",
    "  \"\"\"\n",
    "  # Values in the tensor are ordered by the list of predictors.\n",
    "  predictors = [inputs.get(k) for k in BANDS]\n",
    "  return (tf.expand_dims(tf.transpose(predictors), 1),\n",
    "          tf.expand_dims(tf.expand_dims(label, 1), 1)) \n"
   ]
  },
  {
   "cell_type": "code",
   "execution_count": null,
   "metadata": {
    "colab": {
     "base_uri": "https://localhost:8080/"
    },
    "id": "qTFY279qJk4q",
    "outputId": "6089310a-cf07-4d1d-dde9-bc99002000d7"
   },
   "outputs": [
    {
     "ename": "",
     "evalue": "",
     "output_type": "error",
     "traceback": [
      "\u001b[1;31mFailed to start the Kernel. \n",
      "\u001b[1;31mValueError: 'rail_pspoints2' is not one of the example datasets. \n",
      "\u001b[1;31mView Jupyter <a href='command:jupyter.viewOutput'>log</a> for further details."
     ]
    }
   ],
   "source": [
    "# Load datasets from the files.\n",
    "train_dataset = tf.data.TFRecordDataset(TRAIN_FILE_PATH, compression_type='GZIP')\n",
    "test_dataset = tf.data.TFRecordDataset(TEST_FILE_PATH, compression_type='GZIP')\n",
    "\n",
    "# Compute the size of the shuffle buffer.  We can get away with this\n",
    "# because it's a small dataset, but watch out with larger datasets.\n",
    "train_size = 0\n",
    "for _ in iter(train_dataset):\n",
    "  train_size+=1\n",
    "\n",
    "batch_size = 8\n",
    "\n",
    "# Map the functions over the datasets to parse and convert to tuples.\n",
    "train_dataset = train_dataset.map(parse_tfrecord, num_parallel_calls=4)\n",
    "train_dataset = train_dataset.map(to_tuple, num_parallel_calls=4)\n",
    "train_dataset = train_dataset.shuffle(train_size).batch(batch_size)\n",
    "\n",
    "test_dataset = test_dataset.map(parse_tfrecord, num_parallel_calls=4)\n",
    "test_dataset = test_dataset.map(to_tuple, num_parallel_calls=4)\n",
    "test_dataset = test_dataset.batch(batch_size)\n",
    "\n",
    "# Print the first parsed record to check.\n",
    "from pprint import pprint\n",
    "pprint(iter(train_dataset).next())"
   ]
  },
  {
   "cell_type": "code",
   "execution_count": null,
   "metadata": {
    "colab": {
     "base_uri": "https://localhost:8080/",
     "height": 1000
    },
    "id": "q5miK7LJQ1e7",
    "outputId": "990622f1-61d3-4152-e80d-d8e34998f997"
   },
   "outputs": [
    {
     "ename": "",
     "evalue": "",
     "output_type": "error",
     "traceback": [
      "\u001b[1;31mFailed to start the Kernel. \n",
      "\u001b[1;31mValueError: 'rail_pspoints2' is not one of the example datasets. \n",
      "\u001b[1;31mView Jupyter <a href='command:jupyter.viewOutput'>log</a> for further details."
     ]
    }
   ],
   "source": [
    "pip install tensorflow_decision_forests"
   ]
  },
  {
   "cell_type": "code",
   "execution_count": null,
   "metadata": {
    "id": "qqVXROcKQzr0"
   },
   "outputs": [
    {
     "ename": "",
     "evalue": "",
     "output_type": "error",
     "traceback": [
      "\u001b[1;31mFailed to start the Kernel. \n",
      "\u001b[1;31mValueError: 'rail_pspoints2' is not one of the example datasets. \n",
      "\u001b[1;31mView Jupyter <a href='command:jupyter.viewOutput'>log</a> for further details."
     ]
    }
   ],
   "source": []
  },
  {
   "cell_type": "code",
   "execution_count": null,
   "metadata": {
    "colab": {
     "base_uri": "https://localhost:8080/"
    },
    "id": "_X5I6Zy6Jnsj",
    "outputId": "09738b0e-80a8-4242-fe62-9af79797b9bf"
   },
   "outputs": [
    {
     "ename": "",
     "evalue": "",
     "output_type": "error",
     "traceback": [
      "\u001b[1;31mFailed to start the Kernel. \n",
      "\u001b[1;31mValueError: 'rail_pspoints2' is not one of the example datasets. \n",
      "\u001b[1;31mView Jupyter <a href='command:jupyter.viewOutput'>log</a> for further details."
     ]
    }
   ],
   "source": [
    "from tensorflow import keras\n",
    "\n",
    "# model = tf.keras.models.Sequential([\n",
    "#   tf.keras.layers.Dense(5, activation='sigmoid'), #identity\n",
    "#   tf.keras.layers.Dense(5, activation='sigmoid'),\n",
    "#   tf.keras.layers.Dense(5, activation='sigmoid'),\n",
    "#   tf.keras.layers.Dense(1)])\n",
    "\n",
    "# model = tf.keras.models.Sequential(RandomForestModel(num_trees=30))\n",
    "\n",
    "# Define the layers in the model.\n",
    "model = tf.keras.models.Sequential([\n",
    "  tf.keras.layers.Input((1, 1, len(BANDS))),\n",
    "  tf.keras.layers.Conv2D(1, (1,1), activation='sigmoid'),\n",
    "  tf.keras.layers.Conv2D(1, (1,1), activation='sigmoid'),\n",
    "  tf.keras.layers.Conv2D(1, (1,1), activation='sigmoid')\n",
    "])\n",
    "\n",
    "\n",
    "# Compile the model with the specified loss function.\n",
    "model.compile(optimizer=tf.keras.optimizers.SGD(momentum=0.9),\n",
    "              loss='binary_crossentropy',\n",
    "              metrics=['accuracy'])\n",
    "\n",
    "# Fit the model to the training data.\n",
    "model.fit(x=train_dataset, \n",
    "          epochs=20,\n",
    "          validation_data=test_dataset)"
   ]
  },
  {
   "cell_type": "code",
   "execution_count": null,
   "metadata": {
    "colab": {
     "base_uri": "https://localhost:8080/"
    },
    "id": "wn2cMW39VMth",
    "outputId": "e94c72b6-dcd4-46ab-b658-554e0b230413"
   },
   "outputs": [
    {
     "ename": "",
     "evalue": "",
     "output_type": "error",
     "traceback": [
      "\u001b[1;31mFailed to start the Kernel. \n",
      "\u001b[1;31mValueError: 'rail_pspoints2' is not one of the example datasets. \n",
      "\u001b[1;31mView Jupyter <a href='command:jupyter.viewOutput'>log</a> for further details."
     ]
    }
   ],
   "source": [
    "model.save(MODEL_DIR, save_format='tf')"
   ]
  },
  {
   "cell_type": "code",
   "execution_count": null,
   "metadata": {
    "colab": {
     "base_uri": "https://localhost:8080/"
    },
    "id": "Mt--6MCHVaJu",
    "outputId": "259b9bd7-547c-4e22-9c29-3db6dbf5cdfd"
   },
   "outputs": [
    {
     "ename": "",
     "evalue": "",
     "output_type": "error",
     "traceback": [
      "\u001b[1;31mFailed to start the Kernel. \n",
      "\u001b[1;31mValueError: 'rail_pspoints2' is not one of the example datasets. \n",
      "\u001b[1;31mView Jupyter <a href='command:jupyter.viewOutput'>log</a> for further details."
     ]
    }
   ],
   "source": [
    "from tensorflow.python.tools import saved_model_utils\n",
    "\n",
    "meta_graph_def = saved_model_utils.get_meta_graph_def(MODEL_DIR, 'serve')\n",
    "inputs = meta_graph_def.signature_def['serving_default'].inputs\n",
    "outputs = meta_graph_def.signature_def['serving_default'].outputs\n",
    "\n",
    "# Just get the first thing(s) from the serving signature def.  i.e. this\n",
    "# model only has a single input and a single output.\n",
    "input_name = None\n",
    "for k,v in inputs.items():\n",
    "  input_name = v.name\n",
    "  break\n",
    "\n",
    "output_name = None\n",
    "for k,v in outputs.items():\n",
    "  output_name = v.name\n",
    "  break\n",
    "\n",
    "# Make a dictionary that maps Earth Engine outputs and inputs to \n",
    "# AI Platform inputs and outputs, respectively.\n",
    "import json\n",
    "input_dict = \"'\" + json.dumps({input_name: \"array\"}) + \"'\"\n",
    "output_dict = \"'\" + json.dumps({output_name: \"output\"}) + \"'\"\n",
    "print(input_dict)\n",
    "print(output_dict)"
   ]
  },
  {
   "cell_type": "code",
   "execution_count": null,
   "metadata": {
    "id": "4VZow-zHVmA3"
   },
   "outputs": [
    {
     "ename": "",
     "evalue": "",
     "output_type": "error",
     "traceback": [
      "\u001b[1;31mFailed to start the Kernel. \n",
      "\u001b[1;31mValueError: 'rail_pspoints2' is not one of the example datasets. \n",
      "\u001b[1;31mView Jupyter <a href='command:jupyter.viewOutput'>log</a> for further details."
     ]
    }
   ],
   "source": [
    "PROJECT = 'quick-keel-352020'"
   ]
  },
  {
   "cell_type": "code",
   "execution_count": null,
   "metadata": {
    "colab": {
     "base_uri": "https://localhost:8080/"
    },
    "id": "dFIwfUBqVoRq",
    "outputId": "e8b65972-35c7-4a7e-c6de-c8345e243743"
   },
   "outputs": [
    {
     "ename": "",
     "evalue": "",
     "output_type": "error",
     "traceback": [
      "\u001b[1;31mFailed to start the Kernel. \n",
      "\u001b[1;31mValueError: 'rail_pspoints2' is not one of the example datasets. \n",
      "\u001b[1;31mView Jupyter <a href='command:jupyter.viewOutput'>log</a> for further details."
     ]
    }
   ],
   "source": [
    "!earthengine set_project {PROJECT}\n",
    "!earthengine model prepare --source_dir {MODEL_DIR} --dest_dir {EEIFIED_DIR} --input {input_dict} --output {output_dict}"
   ]
  },
  {
   "cell_type": "code",
   "execution_count": null,
   "metadata": {
    "colab": {
     "base_uri": "https://localhost:8080/"
    },
    "id": "eEAOenuDVyHa",
    "outputId": "3e8fa9cd-acb4-49be-daae-1d44fa1c6769"
   },
   "outputs": [
    {
     "ename": "",
     "evalue": "",
     "output_type": "error",
     "traceback": [
      "\u001b[1;31mFailed to start the Kernel. \n",
      "\u001b[1;31mValueError: 'rail_pspoints2' is not one of the example datasets. \n",
      "\u001b[1;31mView Jupyter <a href='command:jupyter.viewOutput'>log</a> for further details."
     ]
    }
   ],
   "source": [
    "!gcloud ai-platform models create {MODEL_NAME} \\\n",
    "  --project {PROJECT} \\\n",
    "  --region {REGION}\n",
    "\n",
    "!gcloud ai-platform versions create {VERSION_NAME} \\\n",
    "  --project {PROJECT} \\\n",
    "  --region {REGION} \\\n",
    "  --model {MODEL_NAME} \\\n",
    "  --origin {EEIFIED_DIR} \\\n",
    "  --framework \"TENSORFLOW\" \\\n",
    "  --runtime-version=2.3 \\\n",
    "  --python-version=3.7"
   ]
  },
  {
   "cell_type": "code",
   "execution_count": null,
   "metadata": {
    "colab": {
     "base_uri": "https://localhost:8080/",
     "height": 712
    },
    "id": "v-IjY8nXaysO",
    "outputId": "6e0f1db0-9e16-48ef-e384-fc4b4a1c8a6d"
   },
   "outputs": [
    {
     "ename": "",
     "evalue": "",
     "output_type": "error",
     "traceback": [
      "\u001b[1;31mFailed to start the Kernel. \n",
      "\u001b[1;31mValueError: 'rail_pspoints2' is not one of the example datasets. \n",
      "\u001b[1;31mView Jupyter <a href='command:jupyter.viewOutput'>log</a> for further details."
     ]
    }
   ],
   "source": [
    "# Turn into an array image for input to the model.\n",
    "array_image = stack.select(BANDS).float().toArray()\n",
    "\n",
    "# Point to the model hosted on AI Platform.  If you specified a region other\n",
    "# than the default (us-central1) at model creation, specify it here.\n",
    "model = ee.Model.fromAiPlatformPredictor(\n",
    "    projectName=PROJECT,\n",
    "    modelName=MODEL_NAME,\n",
    "    version=VERSION_NAME,\n",
    "    # Can be anything, but don't make it too big.\n",
    "    inputTileSize=[8, 8],\n",
    "    # Keep this the same as your training data.\n",
    "    proj=ee.Projection('EPSG:4326').atScale(30),\n",
    "    fixInputProj=True,\n",
    "    # Note the names here need to match what you specified in the\n",
    "    # output dictionary you passed to the EEifier.\n",
    "    outputBands={'output': {\n",
    "        'type': ee.PixelType.float(),\n",
    "        'dimensions': 1\n",
    "      }\n",
    "    },\n",
    ")\n",
    "\n",
    "# Output probability.\n",
    "predictions = model.predictImage(array_image).arrayGet([0])\n",
    "\n",
    "# Back-of-the-envelope decision rule.\n",
    "predicted = predictions.gt(0.5).selfMask()\n",
    "\n",
    "# Training data for comparison.\n",
    "reference = LOSS19.selfMask()\n",
    "\n",
    "# Get map IDs for display in folium.\n",
    "probability_vis = {'min': 0, 'max': 1}\n",
    "probability_mapid = predictions.getMapId(probability_vis)\n",
    "\n",
    "predicted_vis = {'palette': 'red'}\n",
    "predicted_mapid = predicted.getMapId(predicted_vis)\n",
    "\n",
    "reference_vis = {'palette': 'orange'}\n",
    "reference_mapid = reference.getMapId(reference_vis)\n",
    "\n",
    "image_vis = {'bands': ['NDVI'], 'min': 0, 'max': 0.3}\n",
    "image_mapid = NDVI_2019_.getMapId(image_vis)\n",
    "\n",
    "# Visualize the input imagery and the predictions.\n",
    "map = folium.Map(location=[-9.1, -62.3], zoom_start=11)\n",
    "folium.TileLayer(\n",
    "  tiles=image_mapid['tile_fetcher'].url_format,\n",
    "  attr='Map Data &copy; <a href=\"https://earthengine.google.com/\">Google Earth Engine</a>',\n",
    "  overlay=True,\n",
    "  name='image',\n",
    ").add_to(map)\n",
    "folium.TileLayer(\n",
    "  tiles=probability_mapid['tile_fetcher'].url_format,\n",
    "  attr='Map Data &copy; <a href=\"https://earthengine.google.com/\">Google Earth Engine</a>',\n",
    "  overlay=True,\n",
    "  name='probability',\n",
    ").add_to(map)\n",
    "folium.TileLayer(\n",
    "  tiles=predicted_mapid['tile_fetcher'].url_format,\n",
    "  attr='Map Data &copy; <a href=\"https://earthengine.google.com/\">Google Earth Engine</a>',\n",
    "  overlay=True,\n",
    "  name='predicted',\n",
    ").add_to(map)\n",
    "folium.TileLayer(\n",
    "  tiles=reference_mapid['tile_fetcher'].url_format,\n",
    "  attr='Map Data &copy; <a href=\"https://earthengine.google.com/\">Google Earth Engine</a>',\n",
    "  overlay=True,\n",
    "  name='reference',\n",
    ").add_to(map)\n",
    "map.add_child(folium.LayerControl())\n",
    "map"
   ]
  },
  {
   "cell_type": "code",
   "execution_count": null,
   "metadata": {
    "id": "fB2-SQM3hArp"
   },
   "outputs": [
    {
     "ename": "",
     "evalue": "",
     "output_type": "error",
     "traceback": [
      "\u001b[1;31mFailed to start the Kernel. \n",
      "\u001b[1;31mValueError: 'rail_pspoints2' is not one of the example datasets. \n",
      "\u001b[1;31mView Jupyter <a href='command:jupyter.viewOutput'>log</a> for further details."
     ]
    }
   ],
   "source": [
    "from sklearn.metrics import mean_squared_error, mean_absolute_error, explained_variance_score"
   ]
  },
  {
   "cell_type": "code",
   "execution_count": null,
   "metadata": {
    "id": "pTamnp-EhQ3d"
   },
   "outputs": [
    {
     "ename": "",
     "evalue": "",
     "output_type": "error",
     "traceback": [
      "\u001b[1;31mFailed to start the Kernel. \n",
      "\u001b[1;31mValueError: 'rail_pspoints2' is not one of the example datasets. \n",
      "\u001b[1;31mView Jupyter <a href='command:jupyter.viewOutput'>log</a> for further details."
     ]
    }
   ],
   "source": [
    "import numpy as np\n"
   ]
  },
  {
   "cell_type": "code",
   "execution_count": null,
   "metadata": {
    "id": "SuSB8aeRiNRQ"
   },
   "outputs": [
    {
     "ename": "",
     "evalue": "",
     "output_type": "error",
     "traceback": [
      "\u001b[1;31mFailed to start the Kernel. \n",
      "\u001b[1;31mValueError: 'rail_pspoints2' is not one of the example datasets. \n",
      "\u001b[1;31mView Jupyter <a href='command:jupyter.viewOutput'>log</a> for further details."
     ]
    }
   ],
   "source": [
    "y_test=LOSS19.toArray()"
   ]
  },
  {
   "cell_type": "code",
   "execution_count": null,
   "metadata": {
    "colab": {
     "base_uri": "https://localhost:8080/"
    },
    "id": "Ra4qnmUJjv5M",
    "outputId": "b85ba1e4-4faa-4726-97b8-3b3ccb0a3f7e"
   },
   "outputs": [
    {
     "ename": "",
     "evalue": "",
     "output_type": "error",
     "traceback": [
      "\u001b[1;31mFailed to start the Kernel. \n",
      "\u001b[1;31mValueError: 'rail_pspoints2' is not one of the example datasets. \n",
      "\u001b[1;31mView Jupyter <a href='command:jupyter.viewOutput'>log</a> for further details."
     ]
    }
   ],
   "source": [
    "print(y_test)"
   ]
  },
  {
   "cell_type": "code",
   "execution_count": null,
   "metadata": {
    "colab": {
     "base_uri": "https://localhost:8080/",
     "height": 433
    },
    "id": "jJiSAp7ahQ7W",
    "outputId": "294fb4aa-91ef-4416-a31a-82b92b8991e2"
   },
   "outputs": [
    {
     "ename": "",
     "evalue": "",
     "output_type": "error",
     "traceback": [
      "\u001b[1;31mFailed to start the Kernel. \n",
      "\u001b[1;31mValueError: 'rail_pspoints2' is not one of the example datasets. \n",
      "\u001b[1;31mView Jupyter <a href='command:jupyter.viewOutput'>log</a> for further details."
     ]
    }
   ],
   "source": [
    "np.sqrt(mean_squared_error(test_dataset, predictions))"
   ]
  }
 ],
 "metadata": {
  "colab": {
   "authorship_tag": "ABX9TyOeZjU22o/m3MPRU0bDn7yQ",
   "collapsed_sections": [],
   "include_colab_link": true,
   "name": "TensorFlow_latest",
   "provenance": []
  },
  "jupytext": {
   "formats": "ipynb,py"
  },
  "kernelspec": {
   "display_name": "Python 3.9.7 ('base')",
   "language": "python",
   "name": "python3"
  },
  "language_info": {
   "name": "python",
   "version": "3.9.7"
  },
  "vscode": {
   "interpreter": {
    "hash": "12dbe4176440ea57f2eb2de6499fde9a4aeacd03c15cb71bc8b9f6f33aaa76a7"
   }
  },
  "widgets": {
   "application/vnd.jupyter.widget-state+json": {
    "076026ace6fe4382814b54d1773d0184": {
     "model_module": "jupyter-leaflet",
     "model_module_version": "^0.16.0",
     "model_name": "LeafletWidgetControlModel",
     "state": {
      "_model_module": "jupyter-leaflet",
      "_model_module_version": "^0.16.0",
      "_model_name": "LeafletWidgetControlModel",
      "_view_count": null,
      "_view_module": "jupyter-leaflet",
      "_view_module_version": "^0.16.0",
      "_view_name": "LeafletWidgetControlView",
      "max_height": null,
      "max_width": null,
      "min_height": null,
      "min_width": null,
      "options": [
       "position",
       "transparent_bg"
      ],
      "position": "topright",
      "transparent_bg": false,
      "widget": "IPY_MODEL_3e1b201260de48f09fa4f165bead4b60"
     }
    },
    "0b99987a808d444687b226caa71f65d6": {
     "model_module": "@jupyter-widgets/base",
     "model_module_version": "1.2.0",
     "model_name": "LayoutModel",
     "state": {
      "_model_module": "@jupyter-widgets/base",
      "_model_module_version": "1.2.0",
      "_model_name": "LayoutModel",
      "_view_count": null,
      "_view_module": "@jupyter-widgets/base",
      "_view_module_version": "1.2.0",
      "_view_name": "LayoutView",
      "align_content": null,
      "align_items": null,
      "align_self": null,
      "border": null,
      "bottom": null,
      "display": null,
      "flex": null,
      "flex_flow": null,
      "grid_area": null,
      "grid_auto_columns": null,
      "grid_auto_flow": null,
      "grid_auto_rows": null,
      "grid_column": null,
      "grid_gap": null,
      "grid_row": null,
      "grid_template_areas": null,
      "grid_template_columns": null,
      "grid_template_rows": null,
      "height": null,
      "justify_content": null,
      "justify_items": null,
      "left": null,
      "margin": null,
      "max_height": null,
      "max_width": null,
      "min_height": null,
      "min_width": null,
      "object_fit": null,
      "object_position": null,
      "order": null,
      "overflow": null,
      "overflow_x": null,
      "overflow_y": null,
      "padding": null,
      "right": null,
      "top": null,
      "visibility": null,
      "width": null
     }
    },
    "11c9829c21904656ac1ec42527c58c8a": {
     "model_module": "jupyter-leaflet",
     "model_module_version": "^0.16.0",
     "model_name": "LeafletFullScreenControlModel",
     "state": {
      "_model_module": "jupyter-leaflet",
      "_model_module_version": "^0.16.0",
      "_model_name": "LeafletFullScreenControlModel",
      "_view_count": null,
      "_view_module": "jupyter-leaflet",
      "_view_module_version": "^0.16.0",
      "_view_name": "LeafletFullScreenControlView",
      "options": [
       "position"
      ],
      "position": "topleft"
     }
    },
    "1e546314289a4e7e850b0abdb8fdf60c": {
     "model_module": "jupyter-leaflet",
     "model_module_version": "^0.16.0",
     "model_name": "LeafletAttributionControlModel",
     "state": {
      "_model_module": "jupyter-leaflet",
      "_model_module_version": "^0.16.0",
      "_model_name": "LeafletAttributionControlModel",
      "_view_count": null,
      "_view_module": "jupyter-leaflet",
      "_view_module_version": "^0.16.0",
      "_view_name": "LeafletAttributionControlView",
      "options": [
       "position",
       "prefix"
      ],
      "position": "bottomright",
      "prefix": "ipyleaflet"
     }
    },
    "2b179782dfa64c168af9dd4160937cfe": {
     "model_module": "jupyter-leaflet",
     "model_module_version": "^0.16.0",
     "model_name": "LeafletMapModel",
     "state": {
      "_dom_classes": [],
      "_dragging": false,
      "_model_module": "jupyter-leaflet",
      "_model_module_version": "^0.16.0",
      "_model_name": "LeafletMapModel",
      "_view_count": null,
      "_view_module": "jupyter-leaflet",
      "_view_module_version": "^0.16.0",
      "_view_name": "LeafletMapView",
      "bottom": 417,
      "bounce_at_zoom_limits": true,
      "box_zoom": true,
      "center": [
       69.41124235697256,
       96.01138798461218
      ],
      "close_popup_on_click": true,
      "controls": [
       "IPY_MODEL_6dfd6c6bfca9488698cc0fbd49bc62c5",
       "IPY_MODEL_9e34cba6e3ee4fe9b77bee128033b641",
       "IPY_MODEL_6c2a659ad02143c8951e18243fa10106",
       "IPY_MODEL_11c9829c21904656ac1ec42527c58c8a",
       "IPY_MODEL_cc23c18c07334befabe716a733a096e8",
       "IPY_MODEL_1e546314289a4e7e850b0abdb8fdf60c",
       "IPY_MODEL_b740913b794641c7925ead83bcc2db03",
       "IPY_MODEL_076026ace6fe4382814b54d1773d0184"
      ],
      "crs": {
       "custom": false,
       "name": "EPSG3857"
      },
      "default_style": "IPY_MODEL_739b2847eb7b4afaa49e4018a2cc4e80",
      "double_click_zoom": true,
      "dragging": true,
      "dragging_style": "IPY_MODEL_3725c0c7b31d419e8de81c7a0008aee8",
      "east": 502.03125000000006,
      "fullscreen": false,
      "inertia": true,
      "inertia_deceleration": 3000,
      "inertia_max_speed": 1500,
      "interpolation": "bilinear",
      "keyboard": true,
      "keyboard_pan_offset": 80,
      "keyboard_zoom_offset": 1,
      "layers": [
       "IPY_MODEL_4c813612c7b246cebe67de306febc7f6",
       "IPY_MODEL_fd3c7b0bea03409bae2c74328906a470",
       "IPY_MODEL_afe183ddb9ac4e27a573f0c314d248b9",
       "IPY_MODEL_bf93a45253f447f09688e2cb9bc45ad6",
       "IPY_MODEL_cbcc51c45a8e4021b723e4222c661a70"
      ],
      "layout": "IPY_MODEL_f6977029b2334cbe8639a756b5f0678f",
      "left": -184,
      "max_zoom": 24,
      "min_zoom": 1,
      "modisdate": "2022-06-26",
      "north": 89.47584789265277,
      "options": [
       "bounce_at_zoom_limits",
       "box_zoom",
       "center",
       "close_popup_on_click",
       "double_click_zoom",
       "dragging",
       "fullscreen",
       "inertia",
       "inertia_deceleration",
       "inertia_max_speed",
       "interpolation",
       "keyboard",
       "keyboard_pan_offset",
       "keyboard_zoom_offset",
       "max_zoom",
       "min_zoom",
       "prefer_canvas",
       "scroll_wheel_zoom",
       "tap",
       "tap_tolerance",
       "touch_zoom",
       "world_copy_jump",
       "zoom",
       "zoom_animation_threshold",
       "zoom_delta",
       "zoom_snap",
       "zoom_start"
      ],
      "prefer_canvas": false,
      "right": 970,
      "scroll_wheel_zoom": true,
      "south": -74.21198251594367,
      "style": "IPY_MODEL_739b2847eb7b4afaa49e4018a2cc4e80",
      "tap": true,
      "tap_tolerance": 15,
      "top": -183,
      "touch_zoom": true,
      "west": -309.37500000000006,
      "window_url": "https://tm0inl2p7tb-496ff2e9c6d22116-0-colab.googleusercontent.com/outputframe.html?vrz=colab-20220623-060059-RC00_456727846",
      "world_copy_jump": false,
      "zoom": 1,
      "zoom_animation_threshold": 4,
      "zoom_delta": 1,
      "zoom_snap": 1,
      "zoom_start": 12
     }
    },
    "3725c0c7b31d419e8de81c7a0008aee8": {
     "model_module": "jupyter-leaflet",
     "model_module_version": "^0.16.0",
     "model_name": "LeafletMapStyleModel",
     "state": {
      "_model_module": "jupyter-leaflet",
      "_model_module_version": "^0.16.0",
      "_model_name": "LeafletMapStyleModel",
      "_view_count": null,
      "_view_module": "@jupyter-widgets/base",
      "_view_module_version": "1.2.0",
      "_view_name": "StyleView",
      "cursor": "move"
     }
    },
    "3e1b201260de48f09fa4f165bead4b60": {
     "model_module": "@jupyter-widgets/controls",
     "model_module_version": "1.5.0",
     "model_name": "VBoxModel",
     "state": {
      "_dom_classes": [],
      "_model_module": "@jupyter-widgets/controls",
      "_model_module_version": "1.5.0",
      "_model_name": "VBoxModel",
      "_view_count": null,
      "_view_module": "@jupyter-widgets/controls",
      "_view_module_version": "1.5.0",
      "_view_name": "VBoxView",
      "box_style": "",
      "children": [
       "IPY_MODEL_5a45beb59a984eeea975e24966a39198"
      ],
      "layout": "IPY_MODEL_da6e81bd19d246e999cf9166dfe1fcc0"
     }
    },
    "4c813612c7b246cebe67de306febc7f6": {
     "model_module": "jupyter-leaflet",
     "model_module_version": "^0.16.0",
     "model_name": "LeafletTileLayerModel",
     "state": {
      "_model_module": "jupyter-leaflet",
      "_model_module_version": "^0.16.0",
      "_model_name": "LeafletTileLayerModel",
      "_view_count": null,
      "_view_module": "jupyter-leaflet",
      "_view_module_version": "^0.16.0",
      "_view_name": "LeafletTileLayerView",
      "attribution": "&copy; <a href=\"https://www.openstreetmap.org/copyright\">OpenStreetMap</a> contributors",
      "base": true,
      "bottom": true,
      "bounds": null,
      "detect_retina": false,
      "loading": false,
      "max_native_zoom": 18,
      "max_zoom": 19,
      "min_native_zoom": 0,
      "min_zoom": 1,
      "name": "OpenStreetMap.Mapnik",
      "no_wrap": false,
      "opacity": 1,
      "options": [
       "attribution",
       "bounds",
       "detect_retina",
       "max_native_zoom",
       "max_zoom",
       "min_native_zoom",
       "min_zoom",
       "no_wrap",
       "tile_size",
       "tms"
      ],
      "popup": null,
      "popup_max_height": null,
      "popup_max_width": 300,
      "popup_min_width": 50,
      "show_loading": false,
      "tile_size": 256,
      "tms": false,
      "url": "https://a.tile.openstreetmap.org/{z}/{x}/{y}.png",
      "visible": true
     }
    },
    "4eee8e05e51c43b5bf98bc6f40edf9fc": {
     "model_module": "@jupyter-widgets/controls",
     "model_module_version": "1.5.0",
     "model_name": "HBoxModel",
     "state": {
      "_dom_classes": [],
      "_model_module": "@jupyter-widgets/controls",
      "_model_module_version": "1.5.0",
      "_model_name": "HBoxModel",
      "_view_count": null,
      "_view_module": "@jupyter-widgets/controls",
      "_view_module_version": "1.5.0",
      "_view_name": "HBoxView",
      "box_style": "",
      "children": [
       "IPY_MODEL_a7fd024c3c6241209f7fda971dc9c153"
      ],
      "layout": "IPY_MODEL_0b99987a808d444687b226caa71f65d6"
     }
    },
    "5a45beb59a984eeea975e24966a39198": {
     "model_module": "@jupyter-widgets/controls",
     "model_module_version": "1.5.0",
     "model_name": "ToggleButtonModel",
     "state": {
      "_dom_classes": [],
      "_model_module": "@jupyter-widgets/controls",
      "_model_module_version": "1.5.0",
      "_model_name": "ToggleButtonModel",
      "_view_count": null,
      "_view_module": "@jupyter-widgets/controls",
      "_view_module_version": "1.5.0",
      "_view_name": "ToggleButtonView",
      "button_style": "",
      "description": "",
      "description_tooltip": null,
      "disabled": false,
      "icon": "wrench",
      "layout": "IPY_MODEL_9e458e4b28594590852015bd5d07c340",
      "style": "IPY_MODEL_7e03e7771cd7401cac13e7915e5ae9c5",
      "tooltip": "Toolbar",
      "value": false
     }
    },
    "6c2a659ad02143c8951e18243fa10106": {
     "model_module": "jupyter-leaflet",
     "model_module_version": "^0.16.0",
     "model_name": "LeafletScaleControlModel",
     "state": {
      "_model_module": "jupyter-leaflet",
      "_model_module_version": "^0.16.0",
      "_model_name": "LeafletScaleControlModel",
      "_view_count": null,
      "_view_module": "jupyter-leaflet",
      "_view_module_version": "^0.16.0",
      "_view_name": "LeafletScaleControlView",
      "imperial": true,
      "max_width": 100,
      "metric": true,
      "options": [
       "imperial",
       "max_width",
       "metric",
       "position",
       "update_when_idle"
      ],
      "position": "bottomleft",
      "update_when_idle": false
     }
    },
    "6c7d92a8fe3f468f9dfe13256d1c5f4e": {
     "model_module": "jupyter-leaflet",
     "model_module_version": "^0.16.0",
     "model_name": "LeafletMapStyleModel",
     "state": {
      "_model_module": "jupyter-leaflet",
      "_model_module_version": "^0.16.0",
      "_model_name": "LeafletMapStyleModel",
      "_view_count": null,
      "_view_module": "@jupyter-widgets/base",
      "_view_module_version": "1.2.0",
      "_view_name": "StyleView",
      "cursor": "grab"
     }
    },
    "6dfd6c6bfca9488698cc0fbd49bc62c5": {
     "model_module": "jupyter-leaflet",
     "model_module_version": "^0.16.0",
     "model_name": "LeafletWidgetControlModel",
     "state": {
      "_model_module": "jupyter-leaflet",
      "_model_module_version": "^0.16.0",
      "_model_name": "LeafletWidgetControlModel",
      "_view_count": null,
      "_view_module": "jupyter-leaflet",
      "_view_module_version": "^0.16.0",
      "_view_name": "LeafletWidgetControlView",
      "max_height": null,
      "max_width": null,
      "min_height": null,
      "min_width": null,
      "options": [
       "position",
       "transparent_bg"
      ],
      "position": "topleft",
      "transparent_bg": false,
      "widget": "IPY_MODEL_4eee8e05e51c43b5bf98bc6f40edf9fc"
     }
    },
    "739b2847eb7b4afaa49e4018a2cc4e80": {
     "model_module": "jupyter-leaflet",
     "model_module_version": "^0.16.0",
     "model_name": "LeafletMapStyleModel",
     "state": {
      "_model_module": "jupyter-leaflet",
      "_model_module_version": "^0.16.0",
      "_model_name": "LeafletMapStyleModel",
      "_view_count": null,
      "_view_module": "@jupyter-widgets/base",
      "_view_module_version": "1.2.0",
      "_view_name": "StyleView",
      "cursor": "grab"
     }
    },
    "7e03e7771cd7401cac13e7915e5ae9c5": {
     "model_module": "@jupyter-widgets/controls",
     "model_module_version": "1.5.0",
     "model_name": "DescriptionStyleModel",
     "state": {
      "_model_module": "@jupyter-widgets/controls",
      "_model_module_version": "1.5.0",
      "_model_name": "DescriptionStyleModel",
      "_view_count": null,
      "_view_module": "@jupyter-widgets/base",
      "_view_module_version": "1.2.0",
      "_view_name": "StyleView",
      "description_width": ""
     }
    },
    "886646d05af14d5ca3b5c3f5dc7b9f48": {
     "model_module": "@jupyter-widgets/base",
     "model_module_version": "1.2.0",
     "model_name": "LayoutModel",
     "state": {
      "_model_module": "@jupyter-widgets/base",
      "_model_module_version": "1.2.0",
      "_model_name": "LayoutModel",
      "_view_count": null,
      "_view_module": "@jupyter-widgets/base",
      "_view_module_version": "1.2.0",
      "_view_name": "LayoutView",
      "align_content": null,
      "align_items": null,
      "align_self": null,
      "border": null,
      "bottom": null,
      "display": null,
      "flex": null,
      "flex_flow": null,
      "grid_area": null,
      "grid_auto_columns": null,
      "grid_auto_flow": null,
      "grid_auto_rows": null,
      "grid_column": null,
      "grid_gap": null,
      "grid_row": null,
      "grid_template_areas": null,
      "grid_template_columns": null,
      "grid_template_rows": null,
      "height": "28px",
      "justify_content": null,
      "justify_items": null,
      "left": null,
      "margin": null,
      "max_height": null,
      "max_width": null,
      "min_height": null,
      "min_width": null,
      "object_fit": null,
      "object_position": null,
      "order": null,
      "overflow": null,
      "overflow_x": null,
      "overflow_y": null,
      "padding": "0px 0px 0px 4px",
      "right": null,
      "top": null,
      "visibility": null,
      "width": "28px"
     }
    },
    "9e34cba6e3ee4fe9b77bee128033b641": {
     "model_module": "jupyter-leaflet",
     "model_module_version": "^0.16.0",
     "model_name": "LeafletZoomControlModel",
     "state": {
      "_model_module": "jupyter-leaflet",
      "_model_module_version": "^0.16.0",
      "_model_name": "LeafletZoomControlModel",
      "_view_count": null,
      "_view_module": "jupyter-leaflet",
      "_view_module_version": "^0.16.0",
      "_view_name": "LeafletZoomControlView",
      "options": [
       "position",
       "zoom_in_text",
       "zoom_in_title",
       "zoom_out_text",
       "zoom_out_title"
      ],
      "position": "topleft",
      "zoom_in_text": "+",
      "zoom_in_title": "Zoom in",
      "zoom_out_text": "-",
      "zoom_out_title": "Zoom out"
     }
    },
    "9e458e4b28594590852015bd5d07c340": {
     "model_module": "@jupyter-widgets/base",
     "model_module_version": "1.2.0",
     "model_name": "LayoutModel",
     "state": {
      "_model_module": "@jupyter-widgets/base",
      "_model_module_version": "1.2.0",
      "_model_name": "LayoutModel",
      "_view_count": null,
      "_view_module": "@jupyter-widgets/base",
      "_view_module_version": "1.2.0",
      "_view_name": "LayoutView",
      "align_content": null,
      "align_items": null,
      "align_self": null,
      "border": null,
      "bottom": null,
      "display": null,
      "flex": null,
      "flex_flow": null,
      "grid_area": null,
      "grid_auto_columns": null,
      "grid_auto_flow": null,
      "grid_auto_rows": null,
      "grid_column": null,
      "grid_gap": null,
      "grid_row": null,
      "grid_template_areas": null,
      "grid_template_columns": null,
      "grid_template_rows": null,
      "height": "28px",
      "justify_content": null,
      "justify_items": null,
      "left": null,
      "margin": null,
      "max_height": null,
      "max_width": null,
      "min_height": null,
      "min_width": null,
      "object_fit": null,
      "object_position": null,
      "order": null,
      "overflow": null,
      "overflow_x": null,
      "overflow_y": null,
      "padding": "0px 0px 0px 4px",
      "right": null,
      "top": null,
      "visibility": null,
      "width": "28px"
     }
    },
    "a7fd024c3c6241209f7fda971dc9c153": {
     "model_module": "@jupyter-widgets/controls",
     "model_module_version": "1.5.0",
     "model_name": "ToggleButtonModel",
     "state": {
      "_dom_classes": [],
      "_model_module": "@jupyter-widgets/controls",
      "_model_module_version": "1.5.0",
      "_model_name": "ToggleButtonModel",
      "_view_count": null,
      "_view_module": "@jupyter-widgets/controls",
      "_view_module_version": "1.5.0",
      "_view_name": "ToggleButtonView",
      "button_style": "",
      "description": "",
      "description_tooltip": null,
      "disabled": false,
      "icon": "globe",
      "layout": "IPY_MODEL_886646d05af14d5ca3b5c3f5dc7b9f48",
      "style": "IPY_MODEL_ad19c359483942ac805d22b95c223ea1",
      "tooltip": "Search location/data",
      "value": false
     }
    },
    "ad19c359483942ac805d22b95c223ea1": {
     "model_module": "@jupyter-widgets/controls",
     "model_module_version": "1.5.0",
     "model_name": "DescriptionStyleModel",
     "state": {
      "_model_module": "@jupyter-widgets/controls",
      "_model_module_version": "1.5.0",
      "_model_name": "DescriptionStyleModel",
      "_view_count": null,
      "_view_module": "@jupyter-widgets/base",
      "_view_module_version": "1.2.0",
      "_view_name": "StyleView",
      "description_width": ""
     }
    },
    "afe183ddb9ac4e27a573f0c314d248b9": {
     "model_module": "jupyter-leaflet",
     "model_module_version": "^0.16.0",
     "model_name": "LeafletTileLayerModel",
     "state": {
      "_model_module": "jupyter-leaflet",
      "_model_module_version": "^0.16.0",
      "_model_name": "LeafletTileLayerModel",
      "_view_count": null,
      "_view_module": "jupyter-leaflet",
      "_view_module_version": "^0.16.0",
      "_view_name": "LeafletTileLayerView",
      "attribution": "Google Earth Engine",
      "base": false,
      "bottom": true,
      "bounds": null,
      "detect_retina": false,
      "loading": false,
      "max_native_zoom": 18,
      "max_zoom": 24,
      "min_native_zoom": 0,
      "min_zoom": 0,
      "name": "loss",
      "no_wrap": false,
      "opacity": 1,
      "options": [
       "attribution",
       "bounds",
       "detect_retina",
       "max_native_zoom",
       "max_zoom",
       "min_native_zoom",
       "min_zoom",
       "no_wrap",
       "tile_size",
       "tms"
      ],
      "popup": null,
      "popup_max_height": null,
      "popup_max_width": 300,
      "popup_min_width": 50,
      "show_loading": false,
      "tile_size": 256,
      "tms": false,
      "url": "https://earthengine.googleapis.com/v1alpha/projects/earthengine-legacy/maps/b1566c395c15f1fe51f2508c85f35093-98e82070e81c583ff701110c12842a62/tiles/{z}/{x}/{y}",
      "visible": true
     }
    },
    "b740913b794641c7925ead83bcc2db03": {
     "model_module": "jupyter-leaflet",
     "model_module_version": "^0.16.0",
     "model_name": "LeafletDrawControlModel",
     "state": {
      "_model_module": "jupyter-leaflet",
      "_model_module_version": "^0.16.0",
      "_model_name": "LeafletDrawControlModel",
      "_view_count": null,
      "_view_module": "jupyter-leaflet",
      "_view_module_version": "^0.16.0",
      "_view_name": "LeafletDrawControlView",
      "circle": {
       "shapeOptions": {
        "color": "#3388ff"
       }
      },
      "circlemarker": {},
      "data": [],
      "edit": true,
      "marker": {
       "shapeOptions": {
        "color": "#3388ff"
       }
      },
      "options": [
       "position"
      ],
      "polygon": {
       "shapeOptions": {}
      },
      "polyline": {
       "shapeOptions": {}
      },
      "position": "topleft",
      "rectangle": {
       "shapeOptions": {
        "color": "#3388ff"
       }
      },
      "remove": true
     }
    },
    "bf93a45253f447f09688e2cb9bc45ad6": {
     "model_module": "jupyter-leaflet",
     "model_module_version": "^0.16.0",
     "model_name": "LeafletTileLayerModel",
     "state": {
      "_model_module": "jupyter-leaflet",
      "_model_module_version": "^0.16.0",
      "_model_name": "LeafletTileLayerModel",
      "_view_count": null,
      "_view_module": "jupyter-leaflet",
      "_view_module_version": "^0.16.0",
      "_view_name": "LeafletTileLayerView",
      "attribution": "Google Earth Engine",
      "base": false,
      "bottom": true,
      "bounds": null,
      "detect_retina": false,
      "loading": false,
      "max_native_zoom": 18,
      "max_zoom": 24,
      "min_native_zoom": 0,
      "min_zoom": 0,
      "name": "19",
      "no_wrap": false,
      "opacity": 1,
      "options": [
       "attribution",
       "bounds",
       "detect_retina",
       "max_native_zoom",
       "max_zoom",
       "min_native_zoom",
       "min_zoom",
       "no_wrap",
       "tile_size",
       "tms"
      ],
      "popup": null,
      "popup_max_height": null,
      "popup_max_width": 300,
      "popup_min_width": 50,
      "show_loading": false,
      "tile_size": 256,
      "tms": false,
      "url": "https://earthengine.googleapis.com/v1alpha/projects/earthengine-legacy/maps/d7d6d545390938d5a8b01a2c8266e789-819e177780efa6df40a85880f468b521/tiles/{z}/{x}/{y}",
      "visible": true
     }
    },
    "cbcc51c45a8e4021b723e4222c661a70": {
     "model_module": "jupyter-leaflet",
     "model_module_version": "^0.16.0",
     "model_name": "LeafletTileLayerModel",
     "state": {
      "_model_module": "jupyter-leaflet",
      "_model_module_version": "^0.16.0",
      "_model_name": "LeafletTileLayerModel",
      "_view_count": null,
      "_view_module": "jupyter-leaflet",
      "_view_module_version": "^0.16.0",
      "_view_name": "LeafletTileLayerView",
      "attribution": "Google Earth Engine",
      "base": false,
      "bottom": true,
      "bounds": null,
      "detect_retina": false,
      "loading": false,
      "max_native_zoom": 18,
      "max_zoom": 24,
      "min_native_zoom": 0,
      "min_zoom": 0,
      "name": "slope",
      "no_wrap": false,
      "opacity": 1,
      "options": [
       "attribution",
       "bounds",
       "detect_retina",
       "max_native_zoom",
       "max_zoom",
       "min_native_zoom",
       "min_zoom",
       "no_wrap",
       "tile_size",
       "tms"
      ],
      "popup": null,
      "popup_max_height": null,
      "popup_max_width": 300,
      "popup_min_width": 50,
      "show_loading": false,
      "tile_size": 256,
      "tms": false,
      "url": "https://earthengine.googleapis.com/v1alpha/projects/earthengine-legacy/maps/d0d9bbb3dc66e4d24f2140b58d527546-3dffb809eec52edc1e241a07ae39d643/tiles/{z}/{x}/{y}",
      "visible": true
     }
    },
    "cc23c18c07334befabe716a733a096e8": {
     "model_module": "jupyter-leaflet",
     "model_module_version": "^0.16.0",
     "model_name": "LeafletMeasureControlModel",
     "state": {
      "_custom_units": {},
      "_model_module": "jupyter-leaflet",
      "_model_module_version": "^0.16.0",
      "_model_name": "LeafletMeasureControlModel",
      "_view_count": null,
      "_view_module": "jupyter-leaflet",
      "_view_module_version": "^0.16.0",
      "_view_name": "LeafletMeasureControlView",
      "active_color": "orange",
      "capture_z_index": 10000,
      "completed_color": "#C8F2BE",
      "options": [
       "active_color",
       "capture_z_index",
       "completed_color",
       "popup_options",
       "position",
       "primary_area_unit",
       "primary_length_unit",
       "secondary_area_unit",
       "secondary_length_unit"
      ],
      "popup_options": {
       "autoPanPadding": [
        10,
        10
       ],
       "className": "leaflet-measure-resultpopup"
      },
      "position": "bottomleft",
      "primary_area_unit": "acres",
      "primary_length_unit": "kilometers",
      "secondary_area_unit": null,
      "secondary_length_unit": null
     }
    },
    "da6e81bd19d246e999cf9166dfe1fcc0": {
     "model_module": "@jupyter-widgets/base",
     "model_module_version": "1.2.0",
     "model_name": "LayoutModel",
     "state": {
      "_model_module": "@jupyter-widgets/base",
      "_model_module_version": "1.2.0",
      "_model_name": "LayoutModel",
      "_view_count": null,
      "_view_module": "@jupyter-widgets/base",
      "_view_module_version": "1.2.0",
      "_view_name": "LayoutView",
      "align_content": null,
      "align_items": null,
      "align_self": null,
      "border": null,
      "bottom": null,
      "display": null,
      "flex": null,
      "flex_flow": null,
      "grid_area": null,
      "grid_auto_columns": null,
      "grid_auto_flow": null,
      "grid_auto_rows": null,
      "grid_column": null,
      "grid_gap": null,
      "grid_row": null,
      "grid_template_areas": null,
      "grid_template_columns": null,
      "grid_template_rows": null,
      "height": null,
      "justify_content": null,
      "justify_items": null,
      "left": null,
      "margin": null,
      "max_height": null,
      "max_width": null,
      "min_height": null,
      "min_width": null,
      "object_fit": null,
      "object_position": null,
      "order": null,
      "overflow": null,
      "overflow_x": null,
      "overflow_y": null,
      "padding": null,
      "right": null,
      "top": null,
      "visibility": null,
      "width": null
     }
    },
    "f6977029b2334cbe8639a756b5f0678f": {
     "model_module": "@jupyter-widgets/base",
     "model_module_version": "1.2.0",
     "model_name": "LayoutModel",
     "state": {
      "_model_module": "@jupyter-widgets/base",
      "_model_module_version": "1.2.0",
      "_model_name": "LayoutModel",
      "_view_count": null,
      "_view_module": "@jupyter-widgets/base",
      "_view_module_version": "1.2.0",
      "_view_name": "LayoutView",
      "align_content": null,
      "align_items": null,
      "align_self": null,
      "border": null,
      "bottom": null,
      "display": null,
      "flex": null,
      "flex_flow": null,
      "grid_area": null,
      "grid_auto_columns": null,
      "grid_auto_flow": null,
      "grid_auto_rows": null,
      "grid_column": null,
      "grid_gap": null,
      "grid_row": null,
      "grid_template_areas": null,
      "grid_template_columns": null,
      "grid_template_rows": null,
      "height": "600px",
      "justify_content": null,
      "justify_items": null,
      "left": null,
      "margin": null,
      "max_height": null,
      "max_width": null,
      "min_height": null,
      "min_width": null,
      "object_fit": null,
      "object_position": null,
      "order": null,
      "overflow": null,
      "overflow_x": null,
      "overflow_y": null,
      "padding": null,
      "right": null,
      "top": null,
      "visibility": null,
      "width": null
     }
    },
    "fd3c7b0bea03409bae2c74328906a470": {
     "model_module": "jupyter-leaflet",
     "model_module_version": "^0.16.0",
     "model_name": "LeafletTileLayerModel",
     "state": {
      "_model_module": "jupyter-leaflet",
      "_model_module_version": "^0.16.0",
      "_model_name": "LeafletTileLayerModel",
      "_view_count": null,
      "_view_module": "jupyter-leaflet",
      "_view_module_version": "^0.16.0",
      "_view_name": "LeafletTileLayerView",
      "attribution": "Google",
      "base": false,
      "bottom": true,
      "bounds": null,
      "detect_retina": false,
      "loading": false,
      "max_native_zoom": 18,
      "max_zoom": 22,
      "min_native_zoom": 0,
      "min_zoom": 0,
      "name": "Google Maps",
      "no_wrap": false,
      "opacity": 1,
      "options": [
       "attribution",
       "bounds",
       "detect_retina",
       "max_native_zoom",
       "max_zoom",
       "min_native_zoom",
       "min_zoom",
       "no_wrap",
       "tile_size",
       "tms"
      ],
      "popup": null,
      "popup_max_height": null,
      "popup_max_width": 300,
      "popup_min_width": 50,
      "show_loading": false,
      "tile_size": 256,
      "tms": false,
      "url": "https://mt1.google.com/vt/lyrs=m&x={x}&y={y}&z={z}",
      "visible": true
     }
    }
   }
  }
 },
 "nbformat": 4,
 "nbformat_minor": 0
}
